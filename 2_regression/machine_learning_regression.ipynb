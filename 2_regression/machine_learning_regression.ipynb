{
 "cells": [
  {
   "cell_type": "markdown",
   "id": "b20e1d88",
   "metadata": {},
   "source": [
    "# Machine Learning Regression example"
   ]
  },
  {
   "cell_type": "markdown",
   "id": "2ec1a2b9",
   "metadata": {},
   "source": [
    "In this Machine Learning example Scikit-learn library is used to develop machine learning model for regression type of problem. Here we will be implementing Support Vector Regression (SVR) using linear and non-linear kernels to model sinthetic simulated data. "
   ]
  },
  {
   "cell_type": "markdown",
   "id": "8d1a1dc9",
   "metadata": {},
   "source": [
    "##### Problem definition:\n",
    "Develop predictive Machine Learning nonlinear regression model to predict taget variable (y) based on independent variable (x).  "
   ]
  },
  {
   "cell_type": "markdown",
   "id": "b2c7172c",
   "metadata": {},
   "source": [
    "## Machine Learning model\n",
    "SVMs or Support Vector Machines are one of the most popular and widely used algorithm for dealing with classification problems in machine learning. The model can be lase used to solve regression problems. This algorithm acknowledges the presence of non-linearity in the data and provides a high flexibility of the prediction model.\n",
    "In Support Vector Regression, the straight line that is required to fit the data is referred to as hyperplane.\n",
    "The objective of a support vector machine algorithm is to find a hyperplane in an n-dimensional space that distinctly classifies the data points. The data points on either side of the hyperplane that are closest to the hyperplane are called Support Vectors. These influence the position and orientation of the hyperplane and thus help build the SVM.Hyperplanes are decision boundaries that is used to predict the continuous output. The data points on either side of the hyperplane that are closest to the hyperplane are called Support Vectors.\n",
    "\n",
    "A kernel is a set of mathematical functions that takes data as input and transform it into the required form. These are generally used for finding a hyperplane in the higher dimensional space. The most widely used kernels include Linear, Non-Linear, Polynomial, Radial Basis Function (RBF) and Sigmoid. By default, RBF is used as the kernel. Each of these kernels are used depending on the dataset.\n",
    "\n",
    "Support Vector Regression uses the same principle as the SVMs. The basic idea behind SVR is to find the best fit line. In SVR, the best fit line is the hyperplane that has the maximum number of points.\n"
   ]
  },
  {
   "cell_type": "markdown",
   "id": "456ba68b",
   "metadata": {},
   "source": [
    "### 1. Import Python packages"
   ]
  },
  {
   "cell_type": "code",
   "execution_count": 171,
   "id": "1c4e8395",
   "metadata": {},
   "outputs": [],
   "source": [
    "import pandas as pd\n",
    "import numpy as np\n",
    "import matplotlib.pyplot as plt\n",
    "%matplotlib inline \n",
    "import seaborn as sns\n",
    "\n",
    "from sklearn.model_selection import train_test_split\n",
    "from sklearn.svm import SVR\n",
    "from sklearn.metrics import mean_squared_error \n",
    "from sklearn.metrics import mean_absolute_error"
   ]
  },
  {
   "cell_type": "markdown",
   "id": "220852c1",
   "metadata": {},
   "source": [
    "### 2. Generate data"
   ]
  },
  {
   "cell_type": "code",
   "execution_count": null,
   "id": "15c6e1fa",
   "metadata": {},
   "outputs": [],
   "source": [
    "# X = np.sort(5 * np.random.rand(40, 1), axis=0)\n",
    "# y = np.sin(X).ravel()\n",
    "# y[::5] += 3 * (0.5 - np.random.rand(8))"
   ]
  },
  {
   "cell_type": "code",
   "execution_count": 267,
   "id": "c7f18f41",
   "metadata": {},
   "outputs": [],
   "source": [
    "X = np.sort(5 * np.random.rand(140, 1), axis=0)\n",
    "y = np.sin(X).ravel()"
   ]
  },
  {
   "cell_type": "code",
   "execution_count": 268,
   "id": "b926307f",
   "metadata": {},
   "outputs": [],
   "source": [
    "# add noise to targets\n",
    "y += (0.3 * np.random.rand(len(y)))\n",
    "y[::5] += 3 * (0.2 - np.random.rand(28))"
   ]
  },
  {
   "cell_type": "code",
   "execution_count": 269,
   "id": "399a06ab",
   "metadata": {},
   "outputs": [
    {
     "data": {
      "text/plain": [
       "(140, 1)"
      ]
     },
     "execution_count": 269,
     "metadata": {},
     "output_type": "execute_result"
    }
   ],
   "source": [
    "X.shape"
   ]
  },
  {
   "cell_type": "code",
   "execution_count": 270,
   "id": "9ddeaaed",
   "metadata": {},
   "outputs": [
    {
     "data": {
      "text/plain": [
       "(140,)"
      ]
     },
     "execution_count": 270,
     "metadata": {},
     "output_type": "execute_result"
    }
   ],
   "source": [
    "y.shape"
   ]
  },
  {
   "cell_type": "markdown",
   "id": "4d6ada53",
   "metadata": {},
   "source": [
    "### 3. Visualize the data"
   ]
  },
  {
   "cell_type": "code",
   "execution_count": 251,
   "id": "1afd58ca",
   "metadata": {},
   "outputs": [],
   "source": [
    "dataset = pd.DataFrame({'x': X[:,0], 'y': y}, columns=['x', 'y'])"
   ]
  },
  {
   "cell_type": "code",
   "execution_count": 252,
   "id": "1485c70c",
   "metadata": {},
   "outputs": [
    {
     "data": {
      "text/plain": [
       "<AxesSubplot:xlabel='x', ylabel='y'>"
      ]
     },
     "execution_count": 252,
     "metadata": {},
     "output_type": "execute_result"
    },
    {
     "data": {
      "image/png": "[encoded data removed]",
      "text/plain": [
       "<Figure size 432x288 with 1 Axes>"
      ]
     },
     "metadata": {
      "needs_background": "light"
     },
     "output_type": "display_data"
    }
   ],
   "source": [
    "sns.scatterplot(data=dataset, x=\"x\", y=\"y\")"
   ]
  },
  {
   "cell_type": "markdown",
   "id": "07e682e5",
   "metadata": {},
   "source": [
    "### 4. Split the data into train and test sets"
   ]
  },
  {
   "cell_type": "code",
   "execution_count": 253,
   "id": "88f44845",
   "metadata": {},
   "outputs": [
    {
     "name": "stdout",
     "output_type": "stream",
     "text": [
      "Training set  (126, 1)\n",
      "Testing set  (14, 1)\n"
     ]
    }
   ],
   "source": [
    "X_train, X_test, y_train, y_test = train_test_split(X , y, test_size = 0.1, random_state = 42)\n",
    "\n",
    "print(\"Training set \", X_train.shape)\n",
    "print(\"Testing set \", X_test.shape)"
   ]
  },
  {
   "cell_type": "markdown",
   "id": "f7b13490",
   "metadata": {},
   "source": [
    "### 5. Fit the model "
   ]
  },
  {
   "cell_type": "code",
   "execution_count": 254,
   "id": "bfca0f38",
   "metadata": {},
   "outputs": [],
   "source": [
    "# create an instance of SVR and set kernel - start from linear \n",
    "regressor = SVR(kernel=\"linear\")"
   ]
  },
  {
   "cell_type": "code",
   "execution_count": 255,
   "id": "a69452dd",
   "metadata": {},
   "outputs": [
    {
     "data": {
      "text/plain": [
       "SVR()"
      ]
     },
     "execution_count": 255,
     "metadata": {},
     "output_type": "execute_result"
    }
   ],
   "source": [
    "# fit the model over the training datafrom sklearn.svm import SVR\n",
    "regressor.fit(X_train, y_train)"
   ]
  },
  {
   "cell_type": "markdown",
   "id": "c8cd93fc",
   "metadata": {},
   "source": [
    "### 6. Evaluate the model"
   ]
  },
  {
   "cell_type": "code",
   "execution_count": 256,
   "id": "41cf19ad",
   "metadata": {},
   "outputs": [],
   "source": [
    "y_pred = regressor.predict(X_test)"
   ]
  },
  {
   "cell_type": "code",
   "execution_count": 257,
   "id": "6788343e",
   "metadata": {},
   "outputs": [
    {
     "data": {
      "text/plain": [
       "0.005482634123956997"
      ]
     },
     "execution_count": 257,
     "metadata": {},
     "output_type": "execute_result"
    }
   ],
   "source": [
    "mean_squared_error(y_test, y_pred)"
   ]
  },
  {
   "cell_type": "code",
   "execution_count": 258,
   "id": "a7d27720",
   "metadata": {},
   "outputs": [
    {
     "data": {
      "text/plain": [
       "0.06581132627710028"
      ]
     },
     "execution_count": 258,
     "metadata": {},
     "output_type": "execute_result"
    }
   ],
   "source": [
    "mean_absolute_error(y_test, y_pred)"
   ]
  },
  {
   "cell_type": "markdown",
   "id": "3d9df5b5",
   "metadata": {},
   "source": [
    "### 7. Visualize the model over the scatterplot "
   ]
  },
  {
   "cell_type": "code",
   "execution_count": 259,
   "id": "7445955c",
   "metadata": {},
   "outputs": [],
   "source": [
    "X_plot = np.linspace(X.min(), X.max(), 100)\n",
    "y_plot = regressor.predict(X_plot.reshape(-1, 1))"
   ]
  },
  {
   "cell_type": "code",
   "execution_count": 260,
   "id": "231c9b83",
   "metadata": {},
   "outputs": [],
   "source": [
    "plot_data = pd.DataFrame({'x': X_plot, 'y': y_plot}, columns=['x', 'y'])"
   ]
  },
  {
   "cell_type": "code",
   "execution_count": 261,
   "id": "2983d281",
   "metadata": {},
   "outputs": [
    {
     "data": {
      "text/plain": [
       "[<matplotlib.lines.Line2D at 0x12d83e760>]"
      ]
     },
     "execution_count": 261,
     "metadata": {},
     "output_type": "execute_result"
    },
    {
     "data": {
      "image/png": "[encoded data removed]",
      "text/plain": [
       "<Figure size 432x288 with 1 Axes>"
      ]
     },
     "metadata": {
      "needs_background": "light"
     },
     "output_type": "display_data"
    }
   ],
   "source": [
    "sns.scatterplot(data=dataset, x=\"x\", y=\"y\")\n",
    "plt.plot(X_plot, y_plot, color='r')"
   ]
  },
  {
   "cell_type": "code",
   "execution_count": 262,
   "id": "6d8f8f7b",
   "metadata": {},
   "outputs": [],
   "source": [
    "# How does it look? \n",
    "# Try: kernel=\"poly\", degree=3 ... \n",
    "# Try: kernel=\"rbf\""
   ]
  },
  {
   "cell_type": "code",
   "execution_count": null,
   "id": "b9437d6b",
   "metadata": {},
   "outputs": [],
   "source": [
    "# Which one is best? "
   ]
  }
 ],
 "metadata": {
  "kernelspec": {
   "display_name": "Python 3 (ipykernel)",
   "language": "python",
   "name": "python3"
  },
  "language_info": {
   "codemirror_mode": {
    "name": "ipython",
    "version": 3
   },
   "file_extension": ".py",
   "mimetype": "text/x-python",
   "name": "python",
   "nbconvert_exporter": "python",
   "pygments_lexer": "ipython3",
   "version": "3.9.10"
  }
 },
 "nbformat": 4,
 "nbformat_minor": 5
}
